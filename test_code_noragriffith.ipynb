{
  "nbformat": 4,
  "nbformat_minor": 0,
  "metadata": {
    "colab": {
      "name": "test_code_noragriffith.ipynb",
      "provenance": [],
      "collapsed_sections": [],
      "authorship_tag": "ABX9TyOOwTGrjd+dCn4zbgs2K1GB",
      "include_colab_link": true
    },
    "kernelspec": {
      "name": "python3",
      "display_name": "Python 3"
    },
    "language_info": {
      "name": "python"
    },
    "accelerator": "GPU"
  },
  "cells": [
    {
      "cell_type": "markdown",
      "metadata": {
        "id": "view-in-github",
        "colab_type": "text"
      },
      "source": [
        "<a href=\"https://colab.research.google.com/github/noragriffith/WorldBankTest/blob/main/test_code_noragriffith.ipynb\" target=\"_parent\"><img src=\"https://colab.research.google.com/assets/colab-badge.svg\" alt=\"Open In Colab\"/></a>"
      ]
    },
    {
      "cell_type": "markdown",
      "metadata": {
        "id": "1EjbZSHkNebL"
      },
      "source": [
        "# Importing Libraries"
      ]
    },
    {
      "cell_type": "code",
      "metadata": {
        "id": "vfQmkmXzdqTg"
      },
      "source": [
        "import pandas as pd\n",
        "import numpy as np\n",
        "import matplotlib.pyplot as plt\n",
        "import seaborn as sns\n",
        "import re"
      ],
      "execution_count": 1,
      "outputs": []
    },
    {
      "cell_type": "markdown",
      "metadata": {
        "id": "u8b3j4oSNsI7"
      },
      "source": [
        "# Getting data"
      ]
    },
    {
      "cell_type": "code",
      "metadata": {
        "id": "3n_zr15ElAT6"
      },
      "source": [
        "# Read data from Github repository\n",
        "url = 'https://raw.githubusercontent.com/noragriffith/WorldBankTest/main/Test_Names.csv'\n",
        "comm_trans_df = pd.read_csv(url)\n",
        "\n"
      ],
      "execution_count": 2,
      "outputs": []
    },
    {
      "cell_type": "markdown",
      "metadata": {
        "id": "rAwQ_MomOPOz"
      },
      "source": [
        "# Inspecting the dataframe\n",
        "\n"
      ]
    },
    {
      "cell_type": "code",
      "metadata": {
        "colab": {
          "base_uri": "https://localhost:8080/"
        },
        "id": "e1u6yPUAOkvT",
        "outputId": "14740b61-e9af-4d08-e777-0c8c0a109e23"
      },
      "source": [
        "comm_trans_df.info()"
      ],
      "execution_count": 3,
      "outputs": [
        {
          "output_type": "stream",
          "name": "stdout",
          "text": [
            "<class 'pandas.core.frame.DataFrame'>\n",
            "RangeIndex: 106526 entries, 0 to 106525\n",
            "Data columns (total 2 columns):\n",
            " #   Column          Non-Null Count   Dtype \n",
            "---  ------          --------------   ----- \n",
            " 0   domestic        105890 non-null  object\n",
            " 1   transaction_id  106526 non-null  int64 \n",
            "dtypes: int64(1), object(1)\n",
            "memory usage: 1.6+ MB\n"
          ]
        }
      ]
    },
    {
      "cell_type": "code",
      "metadata": {
        "id": "v5ARhpP3l_za"
      },
      "source": [
        "# Rename 'domestic' column with a more meaningful name 'firm_name'\n",
        "comm_trans_df.rename(columns={'domestic': 'firm_name'}, inplace=True)"
      ],
      "execution_count": 4,
      "outputs": []
    },
    {
      "cell_type": "markdown",
      "metadata": {
        "id": "YAmCBzkd1yI1"
      },
      "source": [
        "# Analyzing null cases\n",
        "- **firm_name** is not available for 0.6% of the records. Upon analysis, I decided to remove those records as it did not give any significant insight to the data. A total of 636 records were removed."
      ]
    },
    {
      "cell_type": "code",
      "metadata": {
        "colab": {
          "base_uri": "https://localhost:8080/"
        },
        "id": "KZMdc-brzxS6",
        "outputId": "b245f56a-ea89-40a0-8cce-b2735189ccc8"
      },
      "source": [
        "# Checking null cases\n",
        "comm_trans_df.isnull().sum()/len(comm_trans_df)*100"
      ],
      "execution_count": 5,
      "outputs": [
        {
          "output_type": "execute_result",
          "data": {
            "text/plain": [
              "firm_name         0.597037\n",
              "transaction_id    0.000000\n",
              "dtype: float64"
            ]
          },
          "metadata": {},
          "execution_count": 5
        }
      ]
    },
    {
      "cell_type": "code",
      "metadata": {
        "colab": {
          "base_uri": "https://localhost:8080/",
          "height": 203
        },
        "id": "eV2oKrL_z4eV",
        "outputId": "58e1596e-d728-4688-8f1e-54c2a53b5a7d"
      },
      "source": [
        "# Keep records with missing 'firm_name' values\n",
        "comm_trans_df_null = comm_trans_df[comm_trans_df['firm_name'].isnull()==True]\n",
        "comm_trans_df_null.head()"
      ],
      "execution_count": 6,
      "outputs": [
        {
          "output_type": "execute_result",
          "data": {
            "text/html": [
              "<div>\n",
              "<style scoped>\n",
              "    .dataframe tbody tr th:only-of-type {\n",
              "        vertical-align: middle;\n",
              "    }\n",
              "\n",
              "    .dataframe tbody tr th {\n",
              "        vertical-align: top;\n",
              "    }\n",
              "\n",
              "    .dataframe thead th {\n",
              "        text-align: right;\n",
              "    }\n",
              "</style>\n",
              "<table border=\"1\" class=\"dataframe\">\n",
              "  <thead>\n",
              "    <tr style=\"text-align: right;\">\n",
              "      <th></th>\n",
              "      <th>firm_name</th>\n",
              "      <th>transaction_id</th>\n",
              "    </tr>\n",
              "  </thead>\n",
              "  <tbody>\n",
              "    <tr>\n",
              "      <th>294</th>\n",
              "      <td>NaN</td>\n",
              "      <td>295</td>\n",
              "    </tr>\n",
              "    <tr>\n",
              "      <th>3217</th>\n",
              "      <td>NaN</td>\n",
              "      <td>3218</td>\n",
              "    </tr>\n",
              "    <tr>\n",
              "      <th>8785</th>\n",
              "      <td>NaN</td>\n",
              "      <td>8786</td>\n",
              "    </tr>\n",
              "    <tr>\n",
              "      <th>9819</th>\n",
              "      <td>NaN</td>\n",
              "      <td>9820</td>\n",
              "    </tr>\n",
              "    <tr>\n",
              "      <th>10036</th>\n",
              "      <td>NaN</td>\n",
              "      <td>10037</td>\n",
              "    </tr>\n",
              "  </tbody>\n",
              "</table>\n",
              "</div>"
            ],
            "text/plain": [
              "      firm_name  transaction_id\n",
              "294         NaN             295\n",
              "3217        NaN            3218\n",
              "8785        NaN            8786\n",
              "9819        NaN            9820\n",
              "10036       NaN           10037"
            ]
          },
          "metadata": {},
          "execution_count": 6
        }
      ]
    },
    {
      "cell_type": "markdown",
      "metadata": {
        "id": "RoL_l9oKPOQ0"
      },
      "source": [
        "# Data cleaning"
      ]
    },
    {
      "cell_type": "code",
      "metadata": {
        "colab": {
          "base_uri": "https://localhost:8080/"
        },
        "id": "e0wrhjP91pMW",
        "outputId": "166c7ab9-aa2a-47c6-ca6e-a818262e3e57"
      },
      "source": [
        "# Cleaning records with null values\n",
        "comm_trans_df = comm_trans_df.dropna()\n",
        "comm_trans_df.isnull().sum()"
      ],
      "execution_count": 7,
      "outputs": [
        {
          "output_type": "execute_result",
          "data": {
            "text/plain": [
              "firm_name         0\n",
              "transaction_id    0\n",
              "dtype: int64"
            ]
          },
          "metadata": {},
          "execution_count": 7
        }
      ]
    },
    {
      "cell_type": "markdown",
      "metadata": {
        "id": "4WrW1imFueKs"
      },
      "source": [
        "# Data normalization\n",
        "I have normalized **firm_name** entries to have a closer match among companies names. I implemented the normalization through the function **clean_companies(series)** that performs following steps;\n",
        "- Lower case each entry of the series\n",
        "- Replace special characters with an empty string\n",
        "- Replace words that identify the most common types of companies such as *private, limited, pivt, pvt, plc, ltd, lt, co, sa* with an empty string by using a word boundary regular expression to avoid partial replacements\n",
        "- Remove extra spaces before and after the company name \n",
        "\n",
        "Originally the dataset contained 15,453 entries identified as unique at the **firm_name** column, after the data normalization process this number dropped to **14,164** entries, that is, **1,289** entries less.\n"
      ]
    },
    {
      "cell_type": "code",
      "metadata": {
        "id": "1rz6xsbhHu1U"
      },
      "source": [
        "# Performs data normalization on a series\n",
        "def clean_companies(series):\n",
        "  return series.str.lower().str.replace(r\"[^a-z0-9\\s]\", '').str.replace(r\"\\b(private|limited|pivt|pvt|plc|ltd|lt|co|sa)\\b\",'').str.strip()\n"
      ],
      "execution_count": 8,
      "outputs": []
    },
    {
      "cell_type": "code",
      "metadata": {
        "colab": {
          "base_uri": "https://localhost:8080/"
        },
        "id": "tunRvc4BSo6R",
        "outputId": "e3576873-c2b1-4a22-a0de-4150b242bcb7"
      },
      "source": [
        "clean_companies(comm_trans_df['firm_name'])"
      ],
      "execution_count": 9,
      "outputs": [
        {
          "output_type": "execute_result",
          "data": {
            "text/plain": [
              "0                   a class trading\n",
              "1                       a k y lanka\n",
              "2         a r freight care services\n",
              "3         ace international express\n",
              "4                     aero dynamics\n",
              "                    ...            \n",
              "106521                   usui lanka\n",
              "106522                 variosystems\n",
              "106523         wayamba natural peat\n",
              "106524             wichy plantation\n",
              "106525               workwear lanka\n",
              "Name: firm_name, Length: 105890, dtype: object"
            ]
          },
          "metadata": {},
          "execution_count": 9
        }
      ]
    },
    {
      "cell_type": "code",
      "metadata": {
        "id": "sr0tgnTWa831"
      },
      "source": [
        "# Performs data normalization on 'firm_name' column and add a new column with those clean names\n",
        "comm_trans_df['firm_name_clean']=clean_companies(comm_trans_df['firm_name'])"
      ],
      "execution_count": 10,
      "outputs": []
    },
    {
      "cell_type": "code",
      "metadata": {
        "colab": {
          "base_uri": "https://localhost:8080/",
          "height": 417
        },
        "id": "pjmJyIDabI22",
        "outputId": "f54f10d3-b860-4467-96f7-4528d288591e"
      },
      "source": [
        "comm_trans_df"
      ],
      "execution_count": 11,
      "outputs": [
        {
          "output_type": "execute_result",
          "data": {
            "text/html": [
              "<div>\n",
              "<style scoped>\n",
              "    .dataframe tbody tr th:only-of-type {\n",
              "        vertical-align: middle;\n",
              "    }\n",
              "\n",
              "    .dataframe tbody tr th {\n",
              "        vertical-align: top;\n",
              "    }\n",
              "\n",
              "    .dataframe thead th {\n",
              "        text-align: right;\n",
              "    }\n",
              "</style>\n",
              "<table border=\"1\" class=\"dataframe\">\n",
              "  <thead>\n",
              "    <tr style=\"text-align: right;\">\n",
              "      <th></th>\n",
              "      <th>firm_name</th>\n",
              "      <th>transaction_id</th>\n",
              "      <th>firm_name_clean</th>\n",
              "    </tr>\n",
              "  </thead>\n",
              "  <tbody>\n",
              "    <tr>\n",
              "      <th>0</th>\n",
              "      <td>A Class Trading Pvt., Ltd.</td>\n",
              "      <td>1</td>\n",
              "      <td>a class trading</td>\n",
              "    </tr>\n",
              "    <tr>\n",
              "      <th>1</th>\n",
              "      <td>A K Y Lanka Pvt., Ltd.</td>\n",
              "      <td>2</td>\n",
              "      <td>a k y lanka</td>\n",
              "    </tr>\n",
              "    <tr>\n",
              "      <th>2</th>\n",
              "      <td>A R Freight Care Services Pvt., Ltd.</td>\n",
              "      <td>3</td>\n",
              "      <td>a r freight care services</td>\n",
              "    </tr>\n",
              "    <tr>\n",
              "      <th>3</th>\n",
              "      <td>Ace International Express Pvt., Ltd.</td>\n",
              "      <td>4</td>\n",
              "      <td>ace international express</td>\n",
              "    </tr>\n",
              "    <tr>\n",
              "      <th>4</th>\n",
              "      <td>Aero Dynamics (Pvt) Ltd.</td>\n",
              "      <td>5</td>\n",
              "      <td>aero dynamics</td>\n",
              "    </tr>\n",
              "    <tr>\n",
              "      <th>...</th>\n",
              "      <td>...</td>\n",
              "      <td>...</td>\n",
              "      <td>...</td>\n",
              "    </tr>\n",
              "    <tr>\n",
              "      <th>106521</th>\n",
              "      <td>Usui Lanka (Pvt) Ltd.</td>\n",
              "      <td>106522</td>\n",
              "      <td>usui lanka</td>\n",
              "    </tr>\n",
              "    <tr>\n",
              "      <th>106522</th>\n",
              "      <td>Variosystems Pvt., Ltd.</td>\n",
              "      <td>106523</td>\n",
              "      <td>variosystems</td>\n",
              "    </tr>\n",
              "    <tr>\n",
              "      <th>106523</th>\n",
              "      <td>Wayamba Natural Peat</td>\n",
              "      <td>106524</td>\n",
              "      <td>wayamba natural peat</td>\n",
              "    </tr>\n",
              "    <tr>\n",
              "      <th>106524</th>\n",
              "      <td>Wichy Plantation Co. (Pvt) Ltd.</td>\n",
              "      <td>106525</td>\n",
              "      <td>wichy plantation</td>\n",
              "    </tr>\n",
              "    <tr>\n",
              "      <th>106525</th>\n",
              "      <td>Workwear Lanka (Pvt) Ltd.</td>\n",
              "      <td>106526</td>\n",
              "      <td>workwear lanka</td>\n",
              "    </tr>\n",
              "  </tbody>\n",
              "</table>\n",
              "<p>105890 rows × 3 columns</p>\n",
              "</div>"
            ],
            "text/plain": [
              "                                   firm_name  ...            firm_name_clean\n",
              "0                 A Class Trading Pvt., Ltd.  ...            a class trading\n",
              "1                     A K Y Lanka Pvt., Ltd.  ...                a k y lanka\n",
              "2       A R Freight Care Services Pvt., Ltd.  ...  a r freight care services\n",
              "3       Ace International Express Pvt., Ltd.  ...  ace international express\n",
              "4                   Aero Dynamics (Pvt) Ltd.  ...              aero dynamics\n",
              "...                                      ...  ...                        ...\n",
              "106521                 Usui Lanka (Pvt) Ltd.  ...                 usui lanka\n",
              "106522               Variosystems Pvt., Ltd.  ...               variosystems\n",
              "106523                  Wayamba Natural Peat  ...       wayamba natural peat\n",
              "106524       Wichy Plantation Co. (Pvt) Ltd.  ...           wichy plantation\n",
              "106525             Workwear Lanka (Pvt) Ltd.  ...             workwear lanka\n",
              "\n",
              "[105890 rows x 3 columns]"
            ]
          },
          "metadata": {},
          "execution_count": 11
        }
      ]
    },
    {
      "cell_type": "markdown",
      "metadata": {
        "id": "XF0VogX0QD0r"
      },
      "source": [
        "# Creating an unique identifier to each firm"
      ]
    },
    {
      "cell_type": "code",
      "metadata": {
        "id": "2MCJMeiCc74G"
      },
      "source": [
        "# create a list of unique names\n",
        "names = comm_trans_df['firm_name_clean'].unique().tolist()"
      ],
      "execution_count": 12,
      "outputs": []
    },
    {
      "cell_type": "code",
      "metadata": {
        "id": "SsG-FcUMS6We"
      },
      "source": [
        "# generates firm ids\n",
        "ids = np.arange(1,len(names)+1,1)"
      ],
      "execution_count": 13,
      "outputs": []
    },
    {
      "cell_type": "code",
      "metadata": {
        "id": "_8Fm3G1ceIcD"
      },
      "source": [
        "# maps ids to names\n",
        "maps = {k:v for k,v in zip(names, ids)}"
      ],
      "execution_count": 14,
      "outputs": []
    },
    {
      "cell_type": "code",
      "metadata": {
        "id": "IzFGV4cWdaBM"
      },
      "source": [
        "# add new 'firm_id' column to the dataframe\n",
        "comm_trans_df['firm_id'] = comm_trans_df['firm_name_clean'].map(maps)"
      ],
      "execution_count": 15,
      "outputs": []
    },
    {
      "cell_type": "code",
      "metadata": {
        "id": "bsU3uLT6ZwGJ",
        "colab": {
          "base_uri": "https://localhost:8080/",
          "height": 417
        },
        "outputId": "3dff92de-12e6-4b4c-c2ba-ce41d3965f74"
      },
      "source": [
        "comm_trans_df"
      ],
      "execution_count": 16,
      "outputs": [
        {
          "output_type": "execute_result",
          "data": {
            "text/html": [
              "<div>\n",
              "<style scoped>\n",
              "    .dataframe tbody tr th:only-of-type {\n",
              "        vertical-align: middle;\n",
              "    }\n",
              "\n",
              "    .dataframe tbody tr th {\n",
              "        vertical-align: top;\n",
              "    }\n",
              "\n",
              "    .dataframe thead th {\n",
              "        text-align: right;\n",
              "    }\n",
              "</style>\n",
              "<table border=\"1\" class=\"dataframe\">\n",
              "  <thead>\n",
              "    <tr style=\"text-align: right;\">\n",
              "      <th></th>\n",
              "      <th>firm_name</th>\n",
              "      <th>transaction_id</th>\n",
              "      <th>firm_name_clean</th>\n",
              "      <th>firm_id</th>\n",
              "    </tr>\n",
              "  </thead>\n",
              "  <tbody>\n",
              "    <tr>\n",
              "      <th>0</th>\n",
              "      <td>A Class Trading Pvt., Ltd.</td>\n",
              "      <td>1</td>\n",
              "      <td>a class trading</td>\n",
              "      <td>1</td>\n",
              "    </tr>\n",
              "    <tr>\n",
              "      <th>1</th>\n",
              "      <td>A K Y Lanka Pvt., Ltd.</td>\n",
              "      <td>2</td>\n",
              "      <td>a k y lanka</td>\n",
              "      <td>2</td>\n",
              "    </tr>\n",
              "    <tr>\n",
              "      <th>2</th>\n",
              "      <td>A R Freight Care Services Pvt., Ltd.</td>\n",
              "      <td>3</td>\n",
              "      <td>a r freight care services</td>\n",
              "      <td>3</td>\n",
              "    </tr>\n",
              "    <tr>\n",
              "      <th>3</th>\n",
              "      <td>Ace International Express Pvt., Ltd.</td>\n",
              "      <td>4</td>\n",
              "      <td>ace international express</td>\n",
              "      <td>4</td>\n",
              "    </tr>\n",
              "    <tr>\n",
              "      <th>4</th>\n",
              "      <td>Aero Dynamics (Pvt) Ltd.</td>\n",
              "      <td>5</td>\n",
              "      <td>aero dynamics</td>\n",
              "      <td>5</td>\n",
              "    </tr>\n",
              "    <tr>\n",
              "      <th>...</th>\n",
              "      <td>...</td>\n",
              "      <td>...</td>\n",
              "      <td>...</td>\n",
              "      <td>...</td>\n",
              "    </tr>\n",
              "    <tr>\n",
              "      <th>106521</th>\n",
              "      <td>Usui Lanka (Pvt) Ltd.</td>\n",
              "      <td>106522</td>\n",
              "      <td>usui lanka</td>\n",
              "      <td>934</td>\n",
              "    </tr>\n",
              "    <tr>\n",
              "      <th>106522</th>\n",
              "      <td>Variosystems Pvt., Ltd.</td>\n",
              "      <td>106523</td>\n",
              "      <td>variosystems</td>\n",
              "      <td>734</td>\n",
              "    </tr>\n",
              "    <tr>\n",
              "      <th>106523</th>\n",
              "      <td>Wayamba Natural Peat</td>\n",
              "      <td>106524</td>\n",
              "      <td>wayamba natural peat</td>\n",
              "      <td>2280</td>\n",
              "    </tr>\n",
              "    <tr>\n",
              "      <th>106524</th>\n",
              "      <td>Wichy Plantation Co. (Pvt) Ltd.</td>\n",
              "      <td>106525</td>\n",
              "      <td>wichy plantation</td>\n",
              "      <td>939</td>\n",
              "    </tr>\n",
              "    <tr>\n",
              "      <th>106525</th>\n",
              "      <td>Workwear Lanka (Pvt) Ltd.</td>\n",
              "      <td>106526</td>\n",
              "      <td>workwear lanka</td>\n",
              "      <td>567</td>\n",
              "    </tr>\n",
              "  </tbody>\n",
              "</table>\n",
              "<p>105890 rows × 4 columns</p>\n",
              "</div>"
            ],
            "text/plain": [
              "                                   firm_name  ...  firm_id\n",
              "0                 A Class Trading Pvt., Ltd.  ...        1\n",
              "1                     A K Y Lanka Pvt., Ltd.  ...        2\n",
              "2       A R Freight Care Services Pvt., Ltd.  ...        3\n",
              "3       Ace International Express Pvt., Ltd.  ...        4\n",
              "4                   Aero Dynamics (Pvt) Ltd.  ...        5\n",
              "...                                      ...  ...      ...\n",
              "106521                 Usui Lanka (Pvt) Ltd.  ...      934\n",
              "106522               Variosystems Pvt., Ltd.  ...      734\n",
              "106523                  Wayamba Natural Peat  ...     2280\n",
              "106524       Wichy Plantation Co. (Pvt) Ltd.  ...      939\n",
              "106525             Workwear Lanka (Pvt) Ltd.  ...      567\n",
              "\n",
              "[105890 rows x 4 columns]"
            ]
          },
          "metadata": {},
          "execution_count": 16
        }
      ]
    },
    {
      "cell_type": "markdown",
      "metadata": {
        "id": "u_s9Rdb_LrX2"
      },
      "source": [
        "# Creating a firm dataframe"
      ]
    },
    {
      "cell_type": "code",
      "metadata": {
        "id": "G3r1tFuWLnIk"
      },
      "source": [
        "# Select specific columns from a dataframe and creates a new one\n",
        "def select_columns(data_frame, column_names):\n",
        "    new_frame = data_frame.loc[:, column_names]\n",
        "    return new_frame"
      ],
      "execution_count": 17,
      "outputs": []
    },
    {
      "cell_type": "code",
      "metadata": {
        "colab": {
          "base_uri": "https://localhost:8080/",
          "height": 1000
        },
        "id": "BMACSUn7LzWv",
        "outputId": "843c52df-5e66-41fa-ffdf-373412c08c27"
      },
      "source": [
        "# Create a dataframe with firm names and their corresponding Ids\n",
        "selected_columns = ['firm_name','firm_id']\n",
        "firms_df = select_columns(comm_trans_df, selected_columns)\n",
        "firms_df.tail(50)"
      ],
      "execution_count": 18,
      "outputs": [
        {
          "output_type": "execute_result",
          "data": {
            "text/html": [
              "<div>\n",
              "<style scoped>\n",
              "    .dataframe tbody tr th:only-of-type {\n",
              "        vertical-align: middle;\n",
              "    }\n",
              "\n",
              "    .dataframe tbody tr th {\n",
              "        vertical-align: top;\n",
              "    }\n",
              "\n",
              "    .dataframe thead th {\n",
              "        text-align: right;\n",
              "    }\n",
              "</style>\n",
              "<table border=\"1\" class=\"dataframe\">\n",
              "  <thead>\n",
              "    <tr style=\"text-align: right;\">\n",
              "      <th></th>\n",
              "      <th>firm_name</th>\n",
              "      <th>firm_id</th>\n",
              "    </tr>\n",
              "  </thead>\n",
              "  <tbody>\n",
              "    <tr>\n",
              "      <th>106476</th>\n",
              "      <td>Scanwell Logistics</td>\n",
              "      <td>14094</td>\n",
              "    </tr>\n",
              "    <tr>\n",
              "      <th>106477</th>\n",
              "      <td>Screenplay Trading Co.</td>\n",
              "      <td>4400</td>\n",
              "    </tr>\n",
              "    <tr>\n",
              "      <th>106478</th>\n",
              "      <td>Sdp Exp. Exp.</td>\n",
              "      <td>6972</td>\n",
              "    </tr>\n",
              "    <tr>\n",
              "      <th>106479</th>\n",
              "      <td>Seybi Trading Pvt., Ltd.</td>\n",
              "      <td>5535</td>\n",
              "    </tr>\n",
              "    <tr>\n",
              "      <th>106480</th>\n",
              "      <td>Shan Teas Pvt., Ltd.</td>\n",
              "      <td>1517</td>\n",
              "    </tr>\n",
              "    <tr>\n",
              "      <th>106481</th>\n",
              "      <td>Sheyanro Enterprises</td>\n",
              "      <td>7290</td>\n",
              "    </tr>\n",
              "    <tr>\n",
              "      <th>106482</th>\n",
              "      <td>Sky International</td>\n",
              "      <td>13574</td>\n",
              "    </tr>\n",
              "    <tr>\n",
              "      <th>106483</th>\n",
              "      <td>Skynet W W E (Pvt) Ltd.</td>\n",
              "      <td>13880</td>\n",
              "    </tr>\n",
              "    <tr>\n",
              "      <th>106484</th>\n",
              "      <td>Spectra Innovations Lanka Pvt., Ltd.</td>\n",
              "      <td>4430</td>\n",
              "    </tr>\n",
              "    <tr>\n",
              "      <th>106485</th>\n",
              "      <td>Srilankan Airlines Ltd.</td>\n",
              "      <td>8463</td>\n",
              "    </tr>\n",
              "    <tr>\n",
              "      <th>106486</th>\n",
              "      <td>Srilankan Airlines Ltd.</td>\n",
              "      <td>8463</td>\n",
              "    </tr>\n",
              "    <tr>\n",
              "      <th>106487</th>\n",
              "      <td>Srilankan Airlines Ltd.</td>\n",
              "      <td>8463</td>\n",
              "    </tr>\n",
              "    <tr>\n",
              "      <th>106488</th>\n",
              "      <td>Srilankan Airlines Ltd.</td>\n",
              "      <td>8463</td>\n",
              "    </tr>\n",
              "    <tr>\n",
              "      <th>106489</th>\n",
              "      <td>St Anthoneys Coco Peat Ltd.</td>\n",
              "      <td>14096</td>\n",
              "    </tr>\n",
              "    <tr>\n",
              "      <th>106490</th>\n",
              "      <td>Stassen Exp. (Pvt) Ltd.</td>\n",
              "      <td>302</td>\n",
              "    </tr>\n",
              "    <tr>\n",
              "      <th>106491</th>\n",
              "      <td>Stassen Exp. (Pvt) Ltd.</td>\n",
              "      <td>302</td>\n",
              "    </tr>\n",
              "    <tr>\n",
              "      <th>106492</th>\n",
              "      <td>Stassen Exp. (Pvt) Ltd.</td>\n",
              "      <td>302</td>\n",
              "    </tr>\n",
              "    <tr>\n",
              "      <th>106493</th>\n",
              "      <td>Stretchline Pvt., Ltd.</td>\n",
              "      <td>542</td>\n",
              "    </tr>\n",
              "    <tr>\n",
              "      <th>106494</th>\n",
              "      <td>Subra Imp. Exp.</td>\n",
              "      <td>3486</td>\n",
              "    </tr>\n",
              "    <tr>\n",
              "      <th>106495</th>\n",
              "      <td>Swedish Trading Co. (Pvt) Ltd.</td>\n",
              "      <td>3709</td>\n",
              "    </tr>\n",
              "    <tr>\n",
              "      <th>106496</th>\n",
              "      <td>Sweepro Mfg. (Pvt) Ltd.</td>\n",
              "      <td>1221</td>\n",
              "    </tr>\n",
              "    <tr>\n",
              "      <th>106497</th>\n",
              "      <td>T &amp; S Buttons Lanka Pvt., Ltd.</td>\n",
              "      <td>13618</td>\n",
              "    </tr>\n",
              "    <tr>\n",
              "      <th>106498</th>\n",
              "      <td>T &amp; S Buttons Lanka Pvt., Ltd.</td>\n",
              "      <td>13618</td>\n",
              "    </tr>\n",
              "    <tr>\n",
              "      <th>106499</th>\n",
              "      <td>T.Suby (Pvt) Ltd.</td>\n",
              "      <td>2786</td>\n",
              "    </tr>\n",
              "    <tr>\n",
              "      <th>106500</th>\n",
              "      <td>Taprobane Seafoods (Pvt) Ltd.</td>\n",
              "      <td>13576</td>\n",
              "    </tr>\n",
              "    <tr>\n",
              "      <th>106501</th>\n",
              "      <td>Tea Tang (Pvt) Ltd.</td>\n",
              "      <td>550</td>\n",
              "    </tr>\n",
              "    <tr>\n",
              "      <th>106502</th>\n",
              "      <td>Teejay Lanka Plc</td>\n",
              "      <td>4647</td>\n",
              "    </tr>\n",
              "    <tr>\n",
              "      <th>106503</th>\n",
              "      <td>Thomas Kershaw Lanka (Pvt) Ltd.</td>\n",
              "      <td>1087</td>\n",
              "    </tr>\n",
              "    <tr>\n",
              "      <th>106504</th>\n",
              "      <td>Trelleborg Lanka (Pvt) Ltd.</td>\n",
              "      <td>728</td>\n",
              "    </tr>\n",
              "    <tr>\n",
              "      <th>106505</th>\n",
              "      <td>Trelleborg Lanka (Pvt) Ltd.</td>\n",
              "      <td>728</td>\n",
              "    </tr>\n",
              "    <tr>\n",
              "      <th>106506</th>\n",
              "      <td>Trelleborg Lanka (Pvt) Ltd.</td>\n",
              "      <td>728</td>\n",
              "    </tr>\n",
              "    <tr>\n",
              "      <th>106507</th>\n",
              "      <td>Trelleborg Tyres Lanka (Pvt) Ltd.</td>\n",
              "      <td>2064</td>\n",
              "    </tr>\n",
              "    <tr>\n",
              "      <th>106508</th>\n",
              "      <td>Trelleborg Tyres Lanka (Pvt) Ltd.</td>\n",
              "      <td>2064</td>\n",
              "    </tr>\n",
              "    <tr>\n",
              "      <th>106509</th>\n",
              "      <td>Trelleborg Tyres Lanka (Pvt) Ltd.</td>\n",
              "      <td>2064</td>\n",
              "    </tr>\n",
              "    <tr>\n",
              "      <th>106510</th>\n",
              "      <td>Trelleborg Wheel Systems Lanka (Pvt) Ltd.</td>\n",
              "      <td>12324</td>\n",
              "    </tr>\n",
              "    <tr>\n",
              "      <th>106511</th>\n",
              "      <td>Trelleborg Wheel Systems Lanka (Pvt) Ltd.</td>\n",
              "      <td>12324</td>\n",
              "    </tr>\n",
              "    <tr>\n",
              "      <th>106512</th>\n",
              "      <td>Trelleborg Wheel Systems Lanka (Pvt) Ltd.</td>\n",
              "      <td>12324</td>\n",
              "    </tr>\n",
              "    <tr>\n",
              "      <th>106513</th>\n",
              "      <td>Trelleborg Wheel Systems Lanka (Pvt) Ltd.</td>\n",
              "      <td>12324</td>\n",
              "    </tr>\n",
              "    <tr>\n",
              "      <th>106514</th>\n",
              "      <td>Trelleborg Wheel Systems Lanka (Pvt) Ltd.</td>\n",
              "      <td>12324</td>\n",
              "    </tr>\n",
              "    <tr>\n",
              "      <th>106515</th>\n",
              "      <td>Tropical Shelfish Pvt., Ltd.</td>\n",
              "      <td>202</td>\n",
              "    </tr>\n",
              "    <tr>\n",
              "      <th>106516</th>\n",
              "      <td>Tszz Exp. Imp.</td>\n",
              "      <td>7247</td>\n",
              "    </tr>\n",
              "    <tr>\n",
              "      <th>106517</th>\n",
              "      <td>Unichela Pvt., Ltd.</td>\n",
              "      <td>557</td>\n",
              "    </tr>\n",
              "    <tr>\n",
              "      <th>106518</th>\n",
              "      <td>Unichela Pvt., Ltd.</td>\n",
              "      <td>557</td>\n",
              "    </tr>\n",
              "    <tr>\n",
              "      <th>106519</th>\n",
              "      <td>United Teas Pvt., Ltd.</td>\n",
              "      <td>1816</td>\n",
              "    </tr>\n",
              "    <tr>\n",
              "      <th>106520</th>\n",
              "      <td>Usui Lanka (Pvt) Ltd.</td>\n",
              "      <td>934</td>\n",
              "    </tr>\n",
              "    <tr>\n",
              "      <th>106521</th>\n",
              "      <td>Usui Lanka (Pvt) Ltd.</td>\n",
              "      <td>934</td>\n",
              "    </tr>\n",
              "    <tr>\n",
              "      <th>106522</th>\n",
              "      <td>Variosystems Pvt., Ltd.</td>\n",
              "      <td>734</td>\n",
              "    </tr>\n",
              "    <tr>\n",
              "      <th>106523</th>\n",
              "      <td>Wayamba Natural Peat</td>\n",
              "      <td>2280</td>\n",
              "    </tr>\n",
              "    <tr>\n",
              "      <th>106524</th>\n",
              "      <td>Wichy Plantation Co. (Pvt) Ltd.</td>\n",
              "      <td>939</td>\n",
              "    </tr>\n",
              "    <tr>\n",
              "      <th>106525</th>\n",
              "      <td>Workwear Lanka (Pvt) Ltd.</td>\n",
              "      <td>567</td>\n",
              "    </tr>\n",
              "  </tbody>\n",
              "</table>\n",
              "</div>"
            ],
            "text/plain": [
              "                                        firm_name  firm_id\n",
              "106476                         Scanwell Logistics    14094\n",
              "106477                     Screenplay Trading Co.     4400\n",
              "106478                              Sdp Exp. Exp.     6972\n",
              "106479                   Seybi Trading Pvt., Ltd.     5535\n",
              "106480                       Shan Teas Pvt., Ltd.     1517\n",
              "106481                       Sheyanro Enterprises     7290\n",
              "106482                          Sky International    13574\n",
              "106483                    Skynet W W E (Pvt) Ltd.    13880\n",
              "106484       Spectra Innovations Lanka Pvt., Ltd.     4430\n",
              "106485                    Srilankan Airlines Ltd.     8463\n",
              "106486                    Srilankan Airlines Ltd.     8463\n",
              "106487                    Srilankan Airlines Ltd.     8463\n",
              "106488                    Srilankan Airlines Ltd.     8463\n",
              "106489                St Anthoneys Coco Peat Ltd.    14096\n",
              "106490                    Stassen Exp. (Pvt) Ltd.      302\n",
              "106491                    Stassen Exp. (Pvt) Ltd.      302\n",
              "106492                    Stassen Exp. (Pvt) Ltd.      302\n",
              "106493                     Stretchline Pvt., Ltd.      542\n",
              "106494                            Subra Imp. Exp.     3486\n",
              "106495             Swedish Trading Co. (Pvt) Ltd.     3709\n",
              "106496                    Sweepro Mfg. (Pvt) Ltd.     1221\n",
              "106497             T & S Buttons Lanka Pvt., Ltd.    13618\n",
              "106498             T & S Buttons Lanka Pvt., Ltd.    13618\n",
              "106499                          T.Suby (Pvt) Ltd.     2786\n",
              "106500              Taprobane Seafoods (Pvt) Ltd.    13576\n",
              "106501                        Tea Tang (Pvt) Ltd.      550\n",
              "106502                           Teejay Lanka Plc     4647\n",
              "106503            Thomas Kershaw Lanka (Pvt) Ltd.     1087\n",
              "106504                Trelleborg Lanka (Pvt) Ltd.      728\n",
              "106505                Trelleborg Lanka (Pvt) Ltd.      728\n",
              "106506                Trelleborg Lanka (Pvt) Ltd.      728\n",
              "106507          Trelleborg Tyres Lanka (Pvt) Ltd.     2064\n",
              "106508          Trelleborg Tyres Lanka (Pvt) Ltd.     2064\n",
              "106509          Trelleborg Tyres Lanka (Pvt) Ltd.     2064\n",
              "106510  Trelleborg Wheel Systems Lanka (Pvt) Ltd.    12324\n",
              "106511  Trelleborg Wheel Systems Lanka (Pvt) Ltd.    12324\n",
              "106512  Trelleborg Wheel Systems Lanka (Pvt) Ltd.    12324\n",
              "106513  Trelleborg Wheel Systems Lanka (Pvt) Ltd.    12324\n",
              "106514  Trelleborg Wheel Systems Lanka (Pvt) Ltd.    12324\n",
              "106515               Tropical Shelfish Pvt., Ltd.      202\n",
              "106516                             Tszz Exp. Imp.     7247\n",
              "106517                        Unichela Pvt., Ltd.      557\n",
              "106518                        Unichela Pvt., Ltd.      557\n",
              "106519                     United Teas Pvt., Ltd.     1816\n",
              "106520                      Usui Lanka (Pvt) Ltd.      934\n",
              "106521                      Usui Lanka (Pvt) Ltd.      934\n",
              "106522                    Variosystems Pvt., Ltd.      734\n",
              "106523                       Wayamba Natural Peat     2280\n",
              "106524            Wichy Plantation Co. (Pvt) Ltd.      939\n",
              "106525                  Workwear Lanka (Pvt) Ltd.      567"
            ]
          },
          "metadata": {},
          "execution_count": 18
        }
      ]
    },
    {
      "cell_type": "markdown",
      "metadata": {
        "id": "LMq1TSEvSeca"
      },
      "source": [
        "# Plotting "
      ]
    },
    {
      "cell_type": "code",
      "metadata": {
        "colab": {
          "base_uri": "https://localhost:8080/",
          "height": 573
        },
        "id": "WzS424vrbUqV",
        "outputId": "f44bfa27-ab49-4c46-b9ce-dbb53b1b11bc"
      },
      "source": [
        "#Top 10 companies by number of transactions\n",
        "top_10 = comm_trans_df['firm_name'].value_counts()[:10]\n",
        "\n",
        "#plot for the top 10 countries\n",
        "plt.figure(figsize=(12,6))\n",
        "plt.xticks(rotation=70)\n",
        "sns.barplot(x=top_10.index, y=top_10, palette = 'Spectral')\n",
        "plt.ylabel(\"No. of Transctions\")\n",
        "plt.title(\"10 Most Active Firms\")\n",
        "plt.show()"
      ],
      "execution_count": 19,
      "outputs": [
        {
          "output_type": "display_data",
          "data": {
            "image/png": "[encoded data removed]",
            "text/plain": [
              "<Figure size 864x432 with 1 Axes>"
            ]
          },
          "metadata": {
            "needs_background": "light"
          }
        }
      ]
    },
    {
      "cell_type": "code",
      "metadata": {
        "id": "62p5NfpeNpE9"
      },
      "source": [
        ""
      ],
      "execution_count": null,
      "outputs": []
    }
  ]
}