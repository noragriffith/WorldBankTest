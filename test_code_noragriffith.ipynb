{
  "nbformat": 4,
  "nbformat_minor": 0,
  "metadata": {
    "colab": {
      "name": "test_code_noragriffith.ipynb",
      "provenance": [],
      "collapsed_sections": [],
      "authorship_tag": "ABX9TyPI0Ujh2PL8l6tti051HRER",
      "include_colab_link": true
    },
    "kernelspec": {
      "name": "python3",
      "display_name": "Python 3"
    },
    "language_info": {
      "name": "python"
    },
    "accelerator": "GPU"
  },
  "cells": [
    {
      "cell_type": "markdown",
      "metadata": {
        "id": "view-in-github",
        "colab_type": "text"
      },
      "source": [
        "<a href=\"https://colab.research.google.com/github/noragriffith/WorldBankTest/blob/main/test_code_noragriffith.ipynb\" target=\"_parent\"><img src=\"https://colab.research.google.com/assets/colab-badge.svg\" alt=\"Open In Colab\"/></a>"
      ]
    },
    {
      "cell_type": "markdown",
      "metadata": {
        "id": "1EjbZSHkNebL"
      },
      "source": [
        "# Importing Libraries"
      ]
    },
    {
      "cell_type": "code",
      "metadata": {
        "id": "vfQmkmXzdqTg"
      },
      "source": [
        "import pandas as pd\n",
        "import numpy as np\n",
        "import matplotlib.pyplot as plt\n",
        "import seaborn as sns\n",
        "import re"
      ],
      "execution_count": 68,
      "outputs": []
    },
    {
      "cell_type": "markdown",
      "metadata": {
        "id": "u8b3j4oSNsI7"
      },
      "source": [
        "# Getting data"
      ]
    },
    {
      "cell_type": "code",
      "metadata": {
        "id": "3n_zr15ElAT6"
      },
      "source": [
        "# Read data from Github repository\n",
        "url = 'https://raw.githubusercontent.com/noragriffith/WorldBankTest/main/Test_Names.csv'\n",
        "comm_trans_df = pd.read_csv(url)\n",
        "\n"
      ],
      "execution_count": 69,
      "outputs": []
    },
    {
      "cell_type": "markdown",
      "metadata": {
        "id": "rAwQ_MomOPOz"
      },
      "source": [
        "# Inspecting the dataframe\n",
        "\n"
      ]
    },
    {
      "cell_type": "code",
      "metadata": {
        "colab": {
          "base_uri": "https://localhost:8080/"
        },
        "id": "e1u6yPUAOkvT",
        "outputId": "41861495-0383-41ee-bd7e-ff634c11ed2a"
      },
      "source": [
        "comm_trans_df.info()"
      ],
      "execution_count": 70,
      "outputs": [
        {
          "output_type": "stream",
          "name": "stdout",
          "text": [
            "<class 'pandas.core.frame.DataFrame'>\n",
            "RangeIndex: 106526 entries, 0 to 106525\n",
            "Data columns (total 2 columns):\n",
            " #   Column          Non-Null Count   Dtype \n",
            "---  ------          --------------   ----- \n",
            " 0   domestic        105890 non-null  object\n",
            " 1   transaction_id  106526 non-null  int64 \n",
            "dtypes: int64(1), object(1)\n",
            "memory usage: 1.6+ MB\n"
          ]
        }
      ]
    },
    {
      "cell_type": "code",
      "metadata": {
        "id": "v5ARhpP3l_za"
      },
      "source": [
        "# Rename 'domestic' column with a more meaningful name 'firm_name'\n",
        "comm_trans_df.rename(columns={'domestic': 'firm_name'}, inplace=True)"
      ],
      "execution_count": 71,
      "outputs": []
    },
    {
      "cell_type": "markdown",
      "metadata": {
        "id": "YAmCBzkd1yI1"
      },
      "source": [
        "# Analyzing null cases\n",
        "- **firm_name** is not available for 0.6% of the records. Upon analysis, I decided to remove those records as it did not give any significant insight to the data. A total of 636 records were removed."
      ]
    },
    {
      "cell_type": "code",
      "metadata": {
        "colab": {
          "base_uri": "https://localhost:8080/"
        },
        "id": "KZMdc-brzxS6",
        "outputId": "26795f4b-914d-4fe1-8096-1364ce426bb4"
      },
      "source": [
        "# Checking null cases\n",
        "comm_trans_df.isnull().sum()/len(comm_trans_df)*100"
      ],
      "execution_count": 72,
      "outputs": [
        {
          "output_type": "execute_result",
          "data": {
            "text/plain": [
              "firm_name         0.597037\n",
              "transaction_id    0.000000\n",
              "dtype: float64"
            ]
          },
          "metadata": {},
          "execution_count": 72
        }
      ]
    },
    {
      "cell_type": "code",
      "metadata": {
        "colab": {
          "base_uri": "https://localhost:8080/",
          "height": 203
        },
        "id": "eV2oKrL_z4eV",
        "outputId": "bd3dcf91-d7b0-47e9-8102-2f6217aa6448"
      },
      "source": [
        "# Keep records with missing 'firm_name' values\n",
        "comm_trans_df_null = comm_trans_df[comm_trans_df['firm_name'].isnull()==True]\n",
        "comm_trans_df_null.head()"
      ],
      "execution_count": 73,
      "outputs": [
        {
          "output_type": "execute_result",
          "data": {
            "text/html": [
              "<div>\n",
              "<style scoped>\n",
              "    .dataframe tbody tr th:only-of-type {\n",
              "        vertical-align: middle;\n",
              "    }\n",
              "\n",
              "    .dataframe tbody tr th {\n",
              "        vertical-align: top;\n",
              "    }\n",
              "\n",
              "    .dataframe thead th {\n",
              "        text-align: right;\n",
              "    }\n",
              "</style>\n",
              "<table border=\"1\" class=\"dataframe\">\n",
              "  <thead>\n",
              "    <tr style=\"text-align: right;\">\n",
              "      <th></th>\n",
              "      <th>firm_name</th>\n",
              "      <th>transaction_id</th>\n",
              "    </tr>\n",
              "  </thead>\n",
              "  <tbody>\n",
              "    <tr>\n",
              "      <th>294</th>\n",
              "      <td>NaN</td>\n",
              "      <td>295</td>\n",
              "    </tr>\n",
              "    <tr>\n",
              "      <th>3217</th>\n",
              "      <td>NaN</td>\n",
              "      <td>3218</td>\n",
              "    </tr>\n",
              "    <tr>\n",
              "      <th>8785</th>\n",
              "      <td>NaN</td>\n",
              "      <td>8786</td>\n",
              "    </tr>\n",
              "    <tr>\n",
              "      <th>9819</th>\n",
              "      <td>NaN</td>\n",
              "      <td>9820</td>\n",
              "    </tr>\n",
              "    <tr>\n",
              "      <th>10036</th>\n",
              "      <td>NaN</td>\n",
              "      <td>10037</td>\n",
              "    </tr>\n",
              "  </tbody>\n",
              "</table>\n",
              "</div>"
            ],
            "text/plain": [
              "      firm_name  transaction_id\n",
              "294         NaN             295\n",
              "3217        NaN            3218\n",
              "8785        NaN            8786\n",
              "9819        NaN            9820\n",
              "10036       NaN           10037"
            ]
          },
          "metadata": {},
          "execution_count": 73
        }
      ]
    },
    {
      "cell_type": "markdown",
      "metadata": {
        "id": "RoL_l9oKPOQ0"
      },
      "source": [
        "# Data cleaning"
      ]
    },
    {
      "cell_type": "code",
      "metadata": {
        "colab": {
          "base_uri": "https://localhost:8080/"
        },
        "id": "e0wrhjP91pMW",
        "outputId": "65b717e6-39ad-4a2b-d2f8-d13c6d72485b"
      },
      "source": [
        "# Cleaning records with null values\n",
        "comm_trans_df = comm_trans_df.dropna()\n",
        "comm_trans_df.isnull().sum()"
      ],
      "execution_count": 74,
      "outputs": [
        {
          "output_type": "execute_result",
          "data": {
            "text/plain": [
              "firm_name         0\n",
              "transaction_id    0\n",
              "dtype: int64"
            ]
          },
          "metadata": {},
          "execution_count": 74
        }
      ]
    },
    {
      "cell_type": "markdown",
      "metadata": {
        "id": "4WrW1imFueKs"
      },
      "source": [
        "# Data normalization\n",
        "I have normalized **firm_name** entries to have a closer match among companies names. I implemented the normalization through the function **clean_companies(series)** that performs following steps;\n",
        "- Lower case each entry of the series\n",
        "- Replace special characters with an empty string\n",
        "- Replace words that identify the most common types of companies such as *private, limited, pivt, pvt, plc, ltd, lt, co, sa* with an empty string by using a word boundary regular expression to avoid partial replacements\n",
        "- Remove extra spaces before and after the company name \n",
        "\n",
        "Originally the dataset contained 15,453 entries identified as unique at the **firm_name** column, after the data normalization process this number dropped to **14,164** entries, that is, **1,289** entries less.\n"
      ]
    },
    {
      "cell_type": "code",
      "metadata": {
        "id": "1rz6xsbhHu1U"
      },
      "source": [
        "# Performs data normalization on a series\n",
        "def clean_companies(series):\n",
        "  return series.str.lower().str.replace(r\"[^a-z0-9\\s]\", '').str.replace(r\"\\b(private|limited|pivt|pvt|plc|ltd|lt|co|sa)\\b\",'').str.strip()\n"
      ],
      "execution_count": 75,
      "outputs": []
    },
    {
      "cell_type": "code",
      "metadata": {
        "colab": {
          "base_uri": "https://localhost:8080/"
        },
        "id": "tunRvc4BSo6R",
        "outputId": "6a68557a-ba0a-42b1-c210-59cc80bcb1d9"
      },
      "source": [
        "clean_companies(comm_trans_df['firm_name'])"
      ],
      "execution_count": 76,
      "outputs": [
        {
          "output_type": "execute_result",
          "data": {
            "text/plain": [
              "0                   a class trading\n",
              "1                       a k y lanka\n",
              "2         a r freight care services\n",
              "3         ace international express\n",
              "4                     aero dynamics\n",
              "                    ...            \n",
              "106521                   usui lanka\n",
              "106522                 variosystems\n",
              "106523         wayamba natural peat\n",
              "106524             wichy plantation\n",
              "106525               workwear lanka\n",
              "Name: firm_name, Length: 105890, dtype: object"
            ]
          },
          "metadata": {},
          "execution_count": 76
        }
      ]
    },
    {
      "cell_type": "code",
      "metadata": {
        "id": "sr0tgnTWa831"
      },
      "source": [
        "# Performs data normalization on 'firm_name' column and add a new column with those clean names\n",
        "comm_trans_df['firm_name_clean']=clean_companies(comm_trans_df['firm_name'])"
      ],
      "execution_count": 77,
      "outputs": []
    },
    {
      "cell_type": "code",
      "metadata": {
        "colab": {
          "base_uri": "https://localhost:8080/",
          "height": 417
        },
        "id": "pjmJyIDabI22",
        "outputId": "f9fa9777-705b-4514-d2ed-1e75b5e49bac"
      },
      "source": [
        "comm_trans_df"
      ],
      "execution_count": 78,
      "outputs": [
        {
          "output_type": "execute_result",
          "data": {
            "text/html": [
              "<div>\n",
              "<style scoped>\n",
              "    .dataframe tbody tr th:only-of-type {\n",
              "        vertical-align: middle;\n",
              "    }\n",
              "\n",
              "    .dataframe tbody tr th {\n",
              "        vertical-align: top;\n",
              "    }\n",
              "\n",
              "    .dataframe thead th {\n",
              "        text-align: right;\n",
              "    }\n",
              "</style>\n",
              "<table border=\"1\" class=\"dataframe\">\n",
              "  <thead>\n",
              "    <tr style=\"text-align: right;\">\n",
              "      <th></th>\n",
              "      <th>firm_name</th>\n",
              "      <th>transaction_id</th>\n",
              "      <th>firm_name_clean</th>\n",
              "    </tr>\n",
              "  </thead>\n",
              "  <tbody>\n",
              "    <tr>\n",
              "      <th>0</th>\n",
              "      <td>A Class Trading Pvt., Ltd.</td>\n",
              "      <td>1</td>\n",
              "      <td>a class trading</td>\n",
              "    </tr>\n",
              "    <tr>\n",
              "      <th>1</th>\n",
              "      <td>A K Y Lanka Pvt., Ltd.</td>\n",
              "      <td>2</td>\n",
              "      <td>a k y lanka</td>\n",
              "    </tr>\n",
              "    <tr>\n",
              "      <th>2</th>\n",
              "      <td>A R Freight Care Services Pvt., Ltd.</td>\n",
              "      <td>3</td>\n",
              "      <td>a r freight care services</td>\n",
              "    </tr>\n",
              "    <tr>\n",
              "      <th>3</th>\n",
              "      <td>Ace International Express Pvt., Ltd.</td>\n",
              "      <td>4</td>\n",
              "      <td>ace international express</td>\n",
              "    </tr>\n",
              "    <tr>\n",
              "      <th>4</th>\n",
              "      <td>Aero Dynamics (Pvt) Ltd.</td>\n",
              "      <td>5</td>\n",
              "      <td>aero dynamics</td>\n",
              "    </tr>\n",
              "    <tr>\n",
              "      <th>...</th>\n",
              "      <td>...</td>\n",
              "      <td>...</td>\n",
              "      <td>...</td>\n",
              "    </tr>\n",
              "    <tr>\n",
              "      <th>106521</th>\n",
              "      <td>Usui Lanka (Pvt) Ltd.</td>\n",
              "      <td>106522</td>\n",
              "      <td>usui lanka</td>\n",
              "    </tr>\n",
              "    <tr>\n",
              "      <th>106522</th>\n",
              "      <td>Variosystems Pvt., Ltd.</td>\n",
              "      <td>106523</td>\n",
              "      <td>variosystems</td>\n",
              "    </tr>\n",
              "    <tr>\n",
              "      <th>106523</th>\n",
              "      <td>Wayamba Natural Peat</td>\n",
              "      <td>106524</td>\n",
              "      <td>wayamba natural peat</td>\n",
              "    </tr>\n",
              "    <tr>\n",
              "      <th>106524</th>\n",
              "      <td>Wichy Plantation Co. (Pvt) Ltd.</td>\n",
              "      <td>106525</td>\n",
              "      <td>wichy plantation</td>\n",
              "    </tr>\n",
              "    <tr>\n",
              "      <th>106525</th>\n",
              "      <td>Workwear Lanka (Pvt) Ltd.</td>\n",
              "      <td>106526</td>\n",
              "      <td>workwear lanka</td>\n",
              "    </tr>\n",
              "  </tbody>\n",
              "</table>\n",
              "<p>105890 rows × 3 columns</p>\n",
              "</div>"
            ],
            "text/plain": [
              "                                   firm_name  ...            firm_name_clean\n",
              "0                 A Class Trading Pvt., Ltd.  ...            a class trading\n",
              "1                     A K Y Lanka Pvt., Ltd.  ...                a k y lanka\n",
              "2       A R Freight Care Services Pvt., Ltd.  ...  a r freight care services\n",
              "3       Ace International Express Pvt., Ltd.  ...  ace international express\n",
              "4                   Aero Dynamics (Pvt) Ltd.  ...              aero dynamics\n",
              "...                                      ...  ...                        ...\n",
              "106521                 Usui Lanka (Pvt) Ltd.  ...                 usui lanka\n",
              "106522               Variosystems Pvt., Ltd.  ...               variosystems\n",
              "106523                  Wayamba Natural Peat  ...       wayamba natural peat\n",
              "106524       Wichy Plantation Co. (Pvt) Ltd.  ...           wichy plantation\n",
              "106525             Workwear Lanka (Pvt) Ltd.  ...             workwear lanka\n",
              "\n",
              "[105890 rows x 3 columns]"
            ]
          },
          "metadata": {},
          "execution_count": 78
        }
      ]
    },
    {
      "cell_type": "markdown",
      "metadata": {
        "id": "XF0VogX0QD0r"
      },
      "source": [
        "# Creating an unique identifier to each firm"
      ]
    },
    {
      "cell_type": "code",
      "metadata": {
        "id": "2MCJMeiCc74G"
      },
      "source": [
        "# create a list of unique names\n",
        "names = comm_trans_df['firm_name_clean'].unique().tolist()"
      ],
      "execution_count": 79,
      "outputs": []
    },
    {
      "cell_type": "code",
      "metadata": {
        "id": "SsG-FcUMS6We"
      },
      "source": [
        "# generates firm ids\n",
        "ids = np.arange(1,len(names)+1,1)"
      ],
      "execution_count": 80,
      "outputs": []
    },
    {
      "cell_type": "code",
      "metadata": {
        "id": "_8Fm3G1ceIcD"
      },
      "source": [
        "# maps ids to names\n",
        "maps = {k:v for k,v in zip(names, ids)}"
      ],
      "execution_count": 81,
      "outputs": []
    },
    {
      "cell_type": "code",
      "metadata": {
        "id": "IzFGV4cWdaBM"
      },
      "source": [
        "# add new 'firm_id' column to the dataframe\n",
        "comm_trans_df['firm_id'] = comm_trans_df['firm_name_clean'].map(maps)"
      ],
      "execution_count": 82,
      "outputs": []
    },
    {
      "cell_type": "code",
      "metadata": {
        "id": "bsU3uLT6ZwGJ",
        "colab": {
          "base_uri": "https://localhost:8080/",
          "height": 417
        },
        "outputId": "2549c7c2-9c1b-4958-d8fc-c5220570d4b1"
      },
      "source": [
        "comm_trans_df"
      ],
      "execution_count": 83,
      "outputs": [
        {
          "output_type": "execute_result",
          "data": {
            "text/html": [
              "<div>\n",
              "<style scoped>\n",
              "    .dataframe tbody tr th:only-of-type {\n",
              "        vertical-align: middle;\n",
              "    }\n",
              "\n",
              "    .dataframe tbody tr th {\n",
              "        vertical-align: top;\n",
              "    }\n",
              "\n",
              "    .dataframe thead th {\n",
              "        text-align: right;\n",
              "    }\n",
              "</style>\n",
              "<table border=\"1\" class=\"dataframe\">\n",
              "  <thead>\n",
              "    <tr style=\"text-align: right;\">\n",
              "      <th></th>\n",
              "      <th>firm_name</th>\n",
              "      <th>transaction_id</th>\n",
              "      <th>firm_name_clean</th>\n",
              "      <th>firm_id</th>\n",
              "    </tr>\n",
              "  </thead>\n",
              "  <tbody>\n",
              "    <tr>\n",
              "      <th>0</th>\n",
              "      <td>A Class Trading Pvt., Ltd.</td>\n",
              "      <td>1</td>\n",
              "      <td>a class trading</td>\n",
              "      <td>1</td>\n",
              "    </tr>\n",
              "    <tr>\n",
              "      <th>1</th>\n",
              "      <td>A K Y Lanka Pvt., Ltd.</td>\n",
              "      <td>2</td>\n",
              "      <td>a k y lanka</td>\n",
              "      <td>2</td>\n",
              "    </tr>\n",
              "    <tr>\n",
              "      <th>2</th>\n",
              "      <td>A R Freight Care Services Pvt., Ltd.</td>\n",
              "      <td>3</td>\n",
              "      <td>a r freight care services</td>\n",
              "      <td>3</td>\n",
              "    </tr>\n",
              "    <tr>\n",
              "      <th>3</th>\n",
              "      <td>Ace International Express Pvt., Ltd.</td>\n",
              "      <td>4</td>\n",
              "      <td>ace international express</td>\n",
              "      <td>4</td>\n",
              "    </tr>\n",
              "    <tr>\n",
              "      <th>4</th>\n",
              "      <td>Aero Dynamics (Pvt) Ltd.</td>\n",
              "      <td>5</td>\n",
              "      <td>aero dynamics</td>\n",
              "      <td>5</td>\n",
              "    </tr>\n",
              "    <tr>\n",
              "      <th>...</th>\n",
              "      <td>...</td>\n",
              "      <td>...</td>\n",
              "      <td>...</td>\n",
              "      <td>...</td>\n",
              "    </tr>\n",
              "    <tr>\n",
              "      <th>106521</th>\n",
              "      <td>Usui Lanka (Pvt) Ltd.</td>\n",
              "      <td>106522</td>\n",
              "      <td>usui lanka</td>\n",
              "      <td>934</td>\n",
              "    </tr>\n",
              "    <tr>\n",
              "      <th>106522</th>\n",
              "      <td>Variosystems Pvt., Ltd.</td>\n",
              "      <td>106523</td>\n",
              "      <td>variosystems</td>\n",
              "      <td>734</td>\n",
              "    </tr>\n",
              "    <tr>\n",
              "      <th>106523</th>\n",
              "      <td>Wayamba Natural Peat</td>\n",
              "      <td>106524</td>\n",
              "      <td>wayamba natural peat</td>\n",
              "      <td>2280</td>\n",
              "    </tr>\n",
              "    <tr>\n",
              "      <th>106524</th>\n",
              "      <td>Wichy Plantation Co. (Pvt) Ltd.</td>\n",
              "      <td>106525</td>\n",
              "      <td>wichy plantation</td>\n",
              "      <td>939</td>\n",
              "    </tr>\n",
              "    <tr>\n",
              "      <th>106525</th>\n",
              "      <td>Workwear Lanka (Pvt) Ltd.</td>\n",
              "      <td>106526</td>\n",
              "      <td>workwear lanka</td>\n",
              "      <td>567</td>\n",
              "    </tr>\n",
              "  </tbody>\n",
              "</table>\n",
              "<p>105890 rows × 4 columns</p>\n",
              "</div>"
            ],
            "text/plain": [
              "                                   firm_name  ...  firm_id\n",
              "0                 A Class Trading Pvt., Ltd.  ...        1\n",
              "1                     A K Y Lanka Pvt., Ltd.  ...        2\n",
              "2       A R Freight Care Services Pvt., Ltd.  ...        3\n",
              "3       Ace International Express Pvt., Ltd.  ...        4\n",
              "4                   Aero Dynamics (Pvt) Ltd.  ...        5\n",
              "...                                      ...  ...      ...\n",
              "106521                 Usui Lanka (Pvt) Ltd.  ...      934\n",
              "106522               Variosystems Pvt., Ltd.  ...      734\n",
              "106523                  Wayamba Natural Peat  ...     2280\n",
              "106524       Wichy Plantation Co. (Pvt) Ltd.  ...      939\n",
              "106525             Workwear Lanka (Pvt) Ltd.  ...      567\n",
              "\n",
              "[105890 rows x 4 columns]"
            ]
          },
          "metadata": {},
          "execution_count": 83
        }
      ]
    },
    {
      "cell_type": "markdown",
      "metadata": {
        "id": "LMq1TSEvSeca"
      },
      "source": [
        "# Plotting "
      ]
    },
    {
      "cell_type": "code",
      "metadata": {
        "colab": {
          "base_uri": "https://localhost:8080/"
        },
        "id": "WzS424vrbUqV",
        "outputId": "baa43ee9-534f-49c0-c239-a4835031b871"
      },
      "source": [
        "#Top 10 companies by number of transactions\n",
        "top_10 = comm_trans_df['firm_name_clean'].value_counts()[:10]\n",
        "top_10"
      ],
      "execution_count": 84,
      "outputs": [
        {
          "output_type": "execute_result",
          "data": {
            "text/plain": [
              "to the order                     1510\n",
              "hayleys free zone                1094\n",
              "camso loadstar                    945\n",
              "hirdaramani international exp     787\n",
              "mas active trading                558\n",
              "dipped products                   536\n",
              "mas intimates                     500\n",
              "akbar brothers                    471\n",
              "sri lankan airlines               409\n",
              "brandix apparel                   401\n",
              "Name: firm_name_clean, dtype: int64"
            ]
          },
          "metadata": {},
          "execution_count": 84
        }
      ]
    },
    {
      "cell_type": "code",
      "metadata": {
        "id": "abOnKmiamfxs",
        "outputId": "02ce8265-d627-4948-a483-87bd18610cd0",
        "colab": {
          "base_uri": "https://localhost:8080/",
          "height": 524
        }
      },
      "source": [
        "#plot for the top 10 countries\n",
        "plt.figure(figsize=(12,6))\n",
        "plt.xticks(rotation=70)\n",
        "sns.barplot(x=top_10.index, y=top_10, palette = 'Spectral')\n",
        "plt.ylabel(\"No. of Transctions\")\n",
        "plt.title(\"10 Most Active Firms\")\n",
        "plt.show()"
      ],
      "execution_count": 85,
      "outputs": [
        {
          "output_type": "display_data",
          "data": {
            "image/png": "[encoded data removed]",
            "text/plain": [
              "<Figure size 864x432 with 1 Axes>"
            ]
          },
          "metadata": {
            "needs_background": "light"
          }
        }
      ]
    }
  ]
}